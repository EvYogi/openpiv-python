{
 "metadata": {
  "name": "",
  "signature": "sha256:05979dea62c0fb6f51e7db189d57797c243edff900903f212184a0c49a382167"
 },
 "nbformat": 3,
 "nbformat_minor": 0,
 "worksheets": [
  {
   "cells": [
    {
     "cell_type": "code",
     "collapsed": false,
     "input": [
      "# %loadpy tutorial-part1.py"
     ],
     "language": "python",
     "metadata": {},
     "outputs": [],
     "prompt_number": 53
    },
    {
     "cell_type": "code",
     "collapsed": false,
     "input": [
      "import sys\n",
      "sys.path.append('/Users/alex/Documents/OpenPIV/openpiv-python')\n",
      "\n",
      "import openpiv.tools\n",
      "import openpiv.process\n",
      "import openpiv.scaling\n",
      "\n",
      "import numpy as np"
     ],
     "language": "python",
     "metadata": {},
     "outputs": [],
     "prompt_number": 54
    },
    {
     "cell_type": "code",
     "collapsed": false,
     "input": [
      "frame_a  = openpiv.tools.imread( 'exp1_001_a.bmp' )\n",
      "frame_b  = openpiv.tools.imread( 'exp1_001_b.bmp' )"
     ],
     "language": "python",
     "metadata": {},
     "outputs": [],
     "prompt_number": 55
    },
    {
     "cell_type": "code",
     "collapsed": false,
     "input": [
      "winsize = 24 # pixels\n",
      "searchsize = 64  # pixels, search in image B\n",
      "overlap = 12 # pixels\n",
      "dt = 0.02 # sec\n",
      "\n",
      "\n",
      "u0, v0, sig2noise = openpiv.process.extended_search_area_piv( frame_a, frame_b, window_size=winsize, overlap=overlap, dt=dt, search_area_size=searchsize, sig2noise_method='peak2peak' )"
     ],
     "language": "python",
     "metadata": {},
     "outputs": [],
     "prompt_number": 56
    },
    {
     "cell_type": "code",
     "collapsed": false,
     "input": [
      "x, y = openpiv.process.get_coordinates( image_size=frame_a.shape, window_size=winsize, overlap=overlap )"
     ],
     "language": "python",
     "metadata": {},
     "outputs": [],
     "prompt_number": 57
    },
    {
     "cell_type": "code",
     "collapsed": false,
     "input": [
      "u1, v1, mask = openpiv.validation.sig2noise_val( u0, v0, sig2noise, threshold = 1.3 )\n",
      "print np.nansum((u1 - u0)**2)"
     ],
     "language": "python",
     "metadata": {},
     "outputs": [
      {
       "output_type": "stream",
       "stream": "stdout",
       "text": [
        "0.0\n"
       ]
      }
     ],
     "prompt_number": 58
    },
    {
     "cell_type": "code",
     "collapsed": false,
     "input": [
      "u2, v2 = openpiv.filters.replace_outliers( u1, v1, method='localmean', max_iter=10, kernel_size=2)\n",
      "print np.nansum((u2 - u1)**2)"
     ],
     "language": "python",
     "metadata": {},
     "outputs": [
      {
       "output_type": "stream",
       "stream": "stdout",
       "text": [
        "0.0\n"
       ]
      }
     ],
     "prompt_number": 59
    },
    {
     "cell_type": "code",
     "collapsed": false,
     "input": [
      "x, y, u3, v3 = openpiv.scaling.uniform(x, y, u2, v2, scaling_factor = 96.52 )\n",
      "print np.nansum((u3 - u2)**2)"
     ],
     "language": "python",
     "metadata": {},
     "outputs": [
      {
       "output_type": "stream",
       "stream": "stdout",
       "text": [
        "836665.088096\n"
       ]
      }
     ],
     "prompt_number": 60
    },
    {
     "cell_type": "code",
     "collapsed": false,
     "input": [
      "openpiv.tools.save(x, y, u3, v3, mask, 'exp1_001.txt', fmt='%6.3f', delimiter = '\\t' )"
     ],
     "language": "python",
     "metadata": {},
     "outputs": [],
     "prompt_number": 63
    },
    {
     "cell_type": "code",
     "collapsed": false,
     "input": [
      "openpiv.tools.display_vector_field('exp1_001.txt', scale=100, width=0.0025)"
     ],
     "language": "python",
     "metadata": {},
     "outputs": [],
     "prompt_number": 64
    },
    {
     "cell_type": "raw",
     "metadata": {},
     "source": [
      "# Small demonstration\n",
      "x = np.array([1,2,3,4])\n",
      "y = x # would preserve changes of x\n",
      "z = x.copy() # would remain [1,2,3,4]\n",
      "\n",
      "print 'x'; print x\n",
      "print 'y'; print y\n",
      "print 'z'; print z\n",
      "\n",
      "# change x once:\n",
      "x[0] = 10\n",
      "print 'x'; print x\n",
      "print 'y'; print y\n",
      "print 'z'; print z\n"
     ]
    },
    {
     "cell_type": "raw",
     "metadata": {},
     "source": [
      "# returns a view of the modified array\n",
      "def test_change(x):\n",
      "    x[0] = 0\n",
      "    return x\n",
      "\n",
      "# returns a copy of the modified array\n",
      "def test_change_with_copy(x):\n",
      "    x[-1] = 25\n",
      "    return x.copy()"
     ]
    },
    {
     "cell_type": "raw",
     "metadata": {},
     "source": [
      "x_new_copy = test_change_with_copy(x)\n",
      "x_new = test_change(x)\n",
      "\n",
      "print 'x'; print x\n",
      "print 'y'; print y\n",
      "print 'z'; print z\n",
      "print 'x_new'; print(x_new)\n",
      "print 'x_copy'; print(x_new_copy)"
     ]
    }
   ],
   "metadata": {}
  }
 ]
}